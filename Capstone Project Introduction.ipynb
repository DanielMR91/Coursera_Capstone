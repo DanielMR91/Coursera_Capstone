{
 "cells": [
  {
   "cell_type": "markdown",
   "metadata": {},
   "source": [
    "# Capstone Project - Moving around the city"
   ]
  },
  {
   "cell_type": "markdown",
   "metadata": {},
   "source": [
    "### Introduction of the business problem and who would be interested in this project"
   ]
  },
  {
   "cell_type": "markdown",
   "metadata": {},
   "source": [
    "In case you are traveling for work or just for a few days to a city and you will need to visiting constantly a specific place on your stay, you will be interested in which hotel you can stay to get on time everytime you need to be in this place. I define this situation in the city of Medellin Colombia, which is a city in a middle of a huge valley of approximate 10 miles of longitude, this analysis can help you to take a decision in which hotel you can stay and minimize the time that will take you to go to this specific place."
   ]
  },
  {
   "cell_type": "markdown",
   "metadata": {},
   "source": [
    "### Data and source that will be used to solve the problem."
   ]
  },
  {
   "cell_type": "markdown",
   "metadata": {},
   "source": [
    "The project will need information about the geographical coordinates (Latitude and Longitude) of the hotels in Medellin City and a technique to divide in clusters this positions and visualizate in a Map of the city.\n",
    "\n",
    "I use the Foursquare API to get this coordinates and the technique of K-means to divide the hotels in clusters."
   ]
  }
 ],
 "metadata": {
  "kernelspec": {
   "display_name": "Python 3",
   "language": "python",
   "name": "python3"
  },
  "language_info": {
   "codemirror_mode": {
    "name": "ipython",
    "version": 3
   },
   "file_extension": ".py",
   "mimetype": "text/x-python",
   "name": "python",
   "nbconvert_exporter": "python",
   "pygments_lexer": "ipython3",
   "version": "3.8.3"
  }
 },
 "nbformat": 4,
 "nbformat_minor": 4
}
